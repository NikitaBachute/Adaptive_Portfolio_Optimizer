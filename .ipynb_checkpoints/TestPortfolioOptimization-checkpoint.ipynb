{
 "cells": [
  {
   "cell_type": "code",
   "execution_count": 1,
   "id": "70726830-173e-4149-bc5b-3714103bfead",
   "metadata": {},
   "outputs": [
    {
     "name": "stdout",
     "output_type": "stream",
     "text": [
      "Collecting PyPortfolioOpt\n",
      "  Downloading pyportfolioopt-1.5.6-py3-none-any.whl.metadata (22 kB)\n",
      "Requirement already satisfied: pandas in c:\\users\\nikib\\appdata\\local\\programs\\python\\python312\\lib\\site-packages (2.2.3)\n",
      "Requirement already satisfied: yfinance in c:\\users\\nikib\\appdata\\local\\programs\\python\\python312\\lib\\site-packages (0.2.65)\n",
      "Collecting cvxpy>=1.1.19 (from PyPortfolioOpt)\n",
      "  Downloading cvxpy-1.7.2-cp312-cp312-win_amd64.whl.metadata (9.8 kB)\n",
      "Collecting ecos<3.0.0,>=2.0.14 (from PyPortfolioOpt)\n",
      "  Downloading ecos-2.0.14-cp312-cp312-win_amd64.whl.metadata (8.2 kB)\n",
      "Requirement already satisfied: numpy>=1.26.0 in c:\\users\\nikib\\appdata\\local\\programs\\python\\python312\\lib\\site-packages (from PyPortfolioOpt) (1.26.4)\n",
      "Collecting plotly<6.0.0,>=5.0.0 (from PyPortfolioOpt)\n",
      "  Downloading plotly-5.24.1-py3-none-any.whl.metadata (7.3 kB)\n",
      "Requirement already satisfied: scipy>=1.3 in c:\\users\\nikib\\appdata\\local\\programs\\python\\python312\\lib\\site-packages (from PyPortfolioOpt) (1.14.1)\n",
      "Requirement already satisfied: python-dateutil>=2.8.2 in c:\\users\\nikib\\appdata\\local\\programs\\python\\python312\\lib\\site-packages (from pandas) (2.9.0.post0)\n",
      "Requirement already satisfied: pytz>=2020.1 in c:\\users\\nikib\\appdata\\local\\programs\\python\\python312\\lib\\site-packages (from pandas) (2024.2)\n",
      "Requirement already satisfied: tzdata>=2022.7 in c:\\users\\nikib\\appdata\\local\\programs\\python\\python312\\lib\\site-packages (from pandas) (2024.2)\n",
      "Requirement already satisfied: requests>=2.31 in c:\\users\\nikib\\appdata\\local\\programs\\python\\python312\\lib\\site-packages (from yfinance) (2.32.3)\n",
      "Requirement already satisfied: multitasking>=0.0.7 in c:\\users\\nikib\\appdata\\local\\programs\\python\\python312\\lib\\site-packages (from yfinance) (0.0.12)\n",
      "Requirement already satisfied: platformdirs>=2.0.0 in c:\\users\\nikib\\appdata\\local\\programs\\python\\python312\\lib\\site-packages (from yfinance) (4.2.2)\n",
      "Requirement already satisfied: frozendict>=2.3.4 in c:\\users\\nikib\\appdata\\local\\programs\\python\\python312\\lib\\site-packages (from yfinance) (2.4.6)\n",
      "Requirement already satisfied: peewee>=3.16.2 in c:\\users\\nikib\\appdata\\local\\programs\\python\\python312\\lib\\site-packages (from yfinance) (3.18.2)\n",
      "Requirement already satisfied: beautifulsoup4>=4.11.1 in c:\\users\\nikib\\appdata\\local\\programs\\python\\python312\\lib\\site-packages (from yfinance) (4.12.3)\n",
      "Requirement already satisfied: curl_cffi>=0.7 in c:\\users\\nikib\\appdata\\local\\programs\\python\\python312\\lib\\site-packages (from yfinance) (0.13.0)\n",
      "Requirement already satisfied: protobuf>=3.19.0 in c:\\users\\nikib\\appdata\\local\\programs\\python\\python312\\lib\\site-packages (from yfinance) (5.29.3)\n",
      "Requirement already satisfied: websockets>=13.0 in c:\\users\\nikib\\appdata\\local\\programs\\python\\python312\\lib\\site-packages (from yfinance) (14.2)\n",
      "Requirement already satisfied: soupsieve>1.2 in c:\\users\\nikib\\appdata\\local\\programs\\python\\python312\\lib\\site-packages (from beautifulsoup4>=4.11.1->yfinance) (2.5)\n",
      "Requirement already satisfied: cffi>=1.12.0 in c:\\users\\nikib\\appdata\\local\\programs\\python\\python312\\lib\\site-packages (from curl_cffi>=0.7->yfinance) (1.16.0)\n",
      "Requirement already satisfied: certifi>=2024.2.2 in c:\\users\\nikib\\appdata\\local\\programs\\python\\python312\\lib\\site-packages (from curl_cffi>=0.7->yfinance) (2024.7.4)\n",
      "Collecting osqp>=0.6.2 (from cvxpy>=1.1.19->PyPortfolioOpt)\n",
      "  Downloading osqp-1.0.4-cp312-cp312-win_amd64.whl.metadata (2.1 kB)\n",
      "Collecting clarabel>=0.5.0 (from cvxpy>=1.1.19->PyPortfolioOpt)\n",
      "  Downloading clarabel-0.11.1-cp39-abi3-win_amd64.whl.metadata (4.9 kB)\n",
      "Collecting scs>=3.2.4.post1 (from cvxpy>=1.1.19->PyPortfolioOpt)\n",
      "  Downloading scs-3.2.8-cp312-cp312-win_amd64.whl.metadata (2.8 kB)\n",
      "Collecting tenacity>=6.2.0 (from plotly<6.0.0,>=5.0.0->PyPortfolioOpt)\n",
      "  Downloading tenacity-9.1.2-py3-none-any.whl.metadata (1.2 kB)\n",
      "Requirement already satisfied: packaging in c:\\users\\nikib\\appdata\\local\\programs\\python\\python312\\lib\\site-packages (from plotly<6.0.0,>=5.0.0->PyPortfolioOpt) (24.1)\n",
      "Requirement already satisfied: six>=1.5 in c:\\users\\nikib\\appdata\\local\\programs\\python\\python312\\lib\\site-packages (from python-dateutil>=2.8.2->pandas) (1.16.0)\n",
      "Requirement already satisfied: charset-normalizer<4,>=2 in c:\\users\\nikib\\appdata\\local\\programs\\python\\python312\\lib\\site-packages (from requests>=2.31->yfinance) (3.3.2)\n",
      "Requirement already satisfied: idna<4,>=2.5 in c:\\users\\nikib\\appdata\\local\\programs\\python\\python312\\lib\\site-packages (from requests>=2.31->yfinance) (3.7)\n",
      "Requirement already satisfied: urllib3<3,>=1.21.1 in c:\\users\\nikib\\appdata\\local\\programs\\python\\python312\\lib\\site-packages (from requests>=2.31->yfinance) (2.2.2)\n",
      "Requirement already satisfied: pycparser in c:\\users\\nikib\\appdata\\local\\programs\\python\\python312\\lib\\site-packages (from cffi>=1.12.0->curl_cffi>=0.7->yfinance) (2.22)\n",
      "Requirement already satisfied: jinja2 in c:\\users\\nikib\\appdata\\local\\programs\\python\\python312\\lib\\site-packages (from osqp>=0.6.2->cvxpy>=1.1.19->PyPortfolioOpt) (3.1.4)\n",
      "Requirement already satisfied: setuptools in c:\\users\\nikib\\appdata\\local\\programs\\python\\python312\\lib\\site-packages (from osqp>=0.6.2->cvxpy>=1.1.19->PyPortfolioOpt) (70.2.0)\n",
      "Requirement already satisfied: joblib in c:\\users\\nikib\\appdata\\local\\programs\\python\\python312\\lib\\site-packages (from osqp>=0.6.2->cvxpy>=1.1.19->PyPortfolioOpt) (1.4.2)\n",
      "Requirement already satisfied: MarkupSafe>=2.0 in c:\\users\\nikib\\appdata\\local\\programs\\python\\python312\\lib\\site-packages (from jinja2->osqp>=0.6.2->cvxpy>=1.1.19->PyPortfolioOpt) (2.1.5)\n",
      "Downloading pyportfolioopt-1.5.6-py3-none-any.whl (62 kB)\n",
      "Downloading cvxpy-1.7.2-cp312-cp312-win_amd64.whl (1.1 MB)\n",
      "   ---------------------------------------- 0.0/1.1 MB ? eta -:--:--\n",
      "   ---------------------------------------- 1.1/1.1 MB 5.6 MB/s eta 0:00:00\n",
      "Downloading ecos-2.0.14-cp312-cp312-win_amd64.whl (72 kB)\n",
      "Downloading plotly-5.24.1-py3-none-any.whl (19.1 MB)\n",
      "   ---------------------------------------- 0.0/19.1 MB ? eta -:--:--\n",
      "   - -------------------------------------- 0.8/19.1 MB 4.2 MB/s eta 0:00:05\n",
      "   --- ------------------------------------ 1.6/19.1 MB 3.8 MB/s eta 0:00:05\n",
      "   ---- ----------------------------------- 2.4/19.1 MB 3.9 MB/s eta 0:00:05\n",
      "   ------- -------------------------------- 3.4/19.1 MB 3.9 MB/s eta 0:00:04\n",
      "   -------- ------------------------------- 4.2/19.1 MB 3.9 MB/s eta 0:00:04\n",
      "   ---------- ----------------------------- 5.0/19.1 MB 3.9 MB/s eta 0:00:04\n",
      "   ------------ --------------------------- 5.8/19.1 MB 3.9 MB/s eta 0:00:04\n",
      "   ------------- -------------------------- 6.6/19.1 MB 3.9 MB/s eta 0:00:04\n",
      "   --------------- ------------------------ 7.3/19.1 MB 3.9 MB/s eta 0:00:03\n",
      "   ----------------- ---------------------- 8.1/19.1 MB 3.9 MB/s eta 0:00:03\n",
      "   ------------------ --------------------- 8.9/19.1 MB 3.9 MB/s eta 0:00:03\n",
      "   -------------------- ------------------- 9.7/19.1 MB 3.9 MB/s eta 0:00:03\n",
      "   ---------------------- ----------------- 10.5/19.1 MB 3.9 MB/s eta 0:00:03\n",
      "   ----------------------- ---------------- 11.3/19.1 MB 3.9 MB/s eta 0:00:02\n",
      "   ------------------------- -------------- 12.1/19.1 MB 3.9 MB/s eta 0:00:02\n",
      "   -------------------------- ------------- 12.8/19.1 MB 3.8 MB/s eta 0:00:02\n",
      "   ---------------------------- ----------- 13.6/19.1 MB 3.8 MB/s eta 0:00:02\n",
      "   ------------------------------ --------- 14.4/19.1 MB 3.8 MB/s eta 0:00:02\n",
      "   ------------------------------- -------- 15.2/19.1 MB 3.8 MB/s eta 0:00:02\n",
      "   --------------------------------- ------ 15.7/19.1 MB 3.7 MB/s eta 0:00:01\n",
      "   ----------------------------------- ---- 16.8/19.1 MB 3.8 MB/s eta 0:00:01\n",
      "   ------------------------------------ --- 17.6/19.1 MB 3.8 MB/s eta 0:00:01\n",
      "   -------------------------------------- - 18.4/19.1 MB 3.8 MB/s eta 0:00:01\n",
      "   ---------------------------------------- 19.1/19.1 MB 3.8 MB/s eta 0:00:00\n",
      "Downloading clarabel-0.11.1-cp39-abi3-win_amd64.whl (887 kB)\n",
      "   ---------------------------------------- 0.0/887.3 kB ? eta -:--:--\n",
      "   ---------------------------------------- 887.3/887.3 kB 5.7 MB/s eta 0:00:00\n",
      "Downloading osqp-1.0.4-cp312-cp312-win_amd64.whl (303 kB)\n",
      "Downloading scs-3.2.8-cp312-cp312-win_amd64.whl (7.5 MB)\n",
      "   ---------------------------------------- 0.0/7.5 MB ? eta -:--:--\n",
      "   ---- ----------------------------------- 0.8/7.5 MB 3.7 MB/s eta 0:00:02\n",
      "   -------- ------------------------------- 1.6/7.5 MB 3.8 MB/s eta 0:00:02\n",
      "   ------------ --------------------------- 2.4/7.5 MB 3.8 MB/s eta 0:00:02\n",
      "   ---------------- ----------------------- 3.1/7.5 MB 3.8 MB/s eta 0:00:02\n",
      "   --------------------- ------------------ 3.9/7.5 MB 3.9 MB/s eta 0:00:01\n",
      "   ------------------------- -------------- 4.7/7.5 MB 3.9 MB/s eta 0:00:01\n",
      "   ----------------------------- ---------- 5.5/7.5 MB 3.9 MB/s eta 0:00:01\n",
      "   ----------------------------------- ---- 6.6/7.5 MB 3.9 MB/s eta 0:00:01\n",
      "   ---------------------------------------  7.3/7.5 MB 3.9 MB/s eta 0:00:01\n",
      "   ---------------------------------------- 7.5/7.5 MB 3.8 MB/s eta 0:00:00\n",
      "Downloading tenacity-9.1.2-py3-none-any.whl (28 kB)\n",
      "Installing collected packages: tenacity, scs, plotly, osqp, ecos, clarabel, cvxpy, PyPortfolioOpt\n",
      "  Attempting uninstall: plotly\n",
      "    Found existing installation: plotly 6.0.1\n",
      "    Uninstalling plotly-6.0.1:\n",
      "      Successfully uninstalled plotly-6.0.1\n",
      "Successfully installed PyPortfolioOpt-1.5.6 clarabel-0.11.1 cvxpy-1.7.2 ecos-2.0.14 osqp-1.0.4 plotly-5.24.1 scs-3.2.8 tenacity-9.1.2\n",
      "Note: you may need to restart the kernel to use updated packages.\n"
     ]
    },
    {
     "name": "stderr",
     "output_type": "stream",
     "text": [
      "\n",
      "[notice] A new release of pip is available: 25.0.1 -> 25.2\n",
      "[notice] To update, run: python.exe -m pip install --upgrade pip\n"
     ]
    }
   ],
   "source": [
    "pip install PyPortfolioOpt pandas yfinance"
   ]
  },
  {
   "cell_type": "code",
   "execution_count": 2,
   "id": "677b38a6-3100-47c4-8e33-72a67d832429",
   "metadata": {},
   "outputs": [],
   "source": [
    "import yfinance as yf\n",
    "import pandas as pd\n",
    "from pypfopt import EfficientFrontier, risk_models, expected_returns\n",
    "from pypfopt.discrete_allocation import DiscreteAllocation, get_latest_prices"
   ]
  },
  {
   "cell_type": "code",
   "execution_count": 11,
   "id": "8a2365ed-212d-4cd0-ba57-fe568615ea1d",
   "metadata": {},
   "outputs": [
    {
     "name": "stderr",
     "output_type": "stream",
     "text": [
      "C:\\Users\\nikib\\AppData\\Local\\Temp\\ipykernel_7428\\3406859348.py:5: FutureWarning: YF.download() has changed argument auto_adjust default to True\n",
      "  df = yf.download(tickers, start=\"2020-01-01\", end=\"2024-12-31\")['Close']\n",
      "[*********************100%***********************]  5 of 5 completed\n"
     ]
    }
   ],
   "source": [
    "# define tickers and download historical data\n",
    "tickers = [\"MSFT\", \"AAPL\", \"GOOG\", \"AMZN\", \"TSLA\"]\n",
    "\n",
    "# Force group by ticker\n",
    "df = yf.download(tickers, start=\"2020-01-01\", end=\"2024-12-31\")['Close']"
   ]
  },
  {
   "cell_type": "code",
   "execution_count": 12,
   "id": "e4b7eb01-c984-4b4d-b7bb-4ad46412c3fc",
   "metadata": {},
   "outputs": [
    {
     "data": {
      "text/html": [
       "<div>\n",
       "<style scoped>\n",
       "    .dataframe tbody tr th:only-of-type {\n",
       "        vertical-align: middle;\n",
       "    }\n",
       "\n",
       "    .dataframe tbody tr th {\n",
       "        vertical-align: top;\n",
       "    }\n",
       "\n",
       "    .dataframe thead th {\n",
       "        text-align: right;\n",
       "    }\n",
       "</style>\n",
       "<table border=\"1\" class=\"dataframe\">\n",
       "  <thead>\n",
       "    <tr style=\"text-align: right;\">\n",
       "      <th>Ticker</th>\n",
       "      <th>AAPL</th>\n",
       "      <th>AMZN</th>\n",
       "      <th>GOOG</th>\n",
       "      <th>MSFT</th>\n",
       "      <th>TSLA</th>\n",
       "    </tr>\n",
       "    <tr>\n",
       "      <th>Date</th>\n",
       "      <th></th>\n",
       "      <th></th>\n",
       "      <th></th>\n",
       "      <th></th>\n",
       "      <th></th>\n",
       "    </tr>\n",
       "  </thead>\n",
       "  <tbody>\n",
       "    <tr>\n",
       "      <th>2020-01-02</th>\n",
       "      <td>72.538513</td>\n",
       "      <td>94.900497</td>\n",
       "      <td>67.964508</td>\n",
       "      <td>152.791122</td>\n",
       "      <td>28.684000</td>\n",
       "    </tr>\n",
       "    <tr>\n",
       "      <th>2020-01-03</th>\n",
       "      <td>71.833290</td>\n",
       "      <td>93.748497</td>\n",
       "      <td>67.630989</td>\n",
       "      <td>150.888626</td>\n",
       "      <td>29.534000</td>\n",
       "    </tr>\n",
       "    <tr>\n",
       "      <th>2020-01-06</th>\n",
       "      <td>72.405670</td>\n",
       "      <td>95.143997</td>\n",
       "      <td>69.298576</td>\n",
       "      <td>151.278625</td>\n",
       "      <td>30.102667</td>\n",
       "    </tr>\n",
       "    <tr>\n",
       "      <th>2020-01-07</th>\n",
       "      <td>72.065155</td>\n",
       "      <td>95.343002</td>\n",
       "      <td>69.255341</td>\n",
       "      <td>149.899307</td>\n",
       "      <td>31.270666</td>\n",
       "    </tr>\n",
       "    <tr>\n",
       "      <th>2020-01-08</th>\n",
       "      <td>73.224403</td>\n",
       "      <td>94.598503</td>\n",
       "      <td>69.801094</td>\n",
       "      <td>152.286972</td>\n",
       "      <td>32.809334</td>\n",
       "    </tr>\n",
       "    <tr>\n",
       "      <th>...</th>\n",
       "      <td>...</td>\n",
       "      <td>...</td>\n",
       "      <td>...</td>\n",
       "      <td>...</td>\n",
       "      <td>...</td>\n",
       "    </tr>\n",
       "    <tr>\n",
       "      <th>2024-12-23</th>\n",
       "      <td>254.367035</td>\n",
       "      <td>225.059998</td>\n",
       "      <td>195.531937</td>\n",
       "      <td>432.871460</td>\n",
       "      <td>430.600006</td>\n",
       "    </tr>\n",
       "    <tr>\n",
       "      <th>2024-12-24</th>\n",
       "      <td>257.286682</td>\n",
       "      <td>229.050003</td>\n",
       "      <td>197.108261</td>\n",
       "      <td>436.929108</td>\n",
       "      <td>462.279999</td>\n",
       "    </tr>\n",
       "    <tr>\n",
       "      <th>2024-12-26</th>\n",
       "      <td>258.103729</td>\n",
       "      <td>227.050003</td>\n",
       "      <td>196.639359</td>\n",
       "      <td>435.715790</td>\n",
       "      <td>454.130005</td>\n",
       "    </tr>\n",
       "    <tr>\n",
       "      <th>2024-12-27</th>\n",
       "      <td>254.685883</td>\n",
       "      <td>223.750000</td>\n",
       "      <td>193.586487</td>\n",
       "      <td>428.177216</td>\n",
       "      <td>431.660004</td>\n",
       "    </tr>\n",
       "    <tr>\n",
       "      <th>2024-12-30</th>\n",
       "      <td>251.307861</td>\n",
       "      <td>221.300003</td>\n",
       "      <td>192.239655</td>\n",
       "      <td>422.508362</td>\n",
       "      <td>417.410004</td>\n",
       "    </tr>\n",
       "  </tbody>\n",
       "</table>\n",
       "<p>1257 rows × 5 columns</p>\n",
       "</div>"
      ],
      "text/plain": [
       "Ticker            AAPL        AMZN        GOOG        MSFT        TSLA\n",
       "Date                                                                  \n",
       "2020-01-02   72.538513   94.900497   67.964508  152.791122   28.684000\n",
       "2020-01-03   71.833290   93.748497   67.630989  150.888626   29.534000\n",
       "2020-01-06   72.405670   95.143997   69.298576  151.278625   30.102667\n",
       "2020-01-07   72.065155   95.343002   69.255341  149.899307   31.270666\n",
       "2020-01-08   73.224403   94.598503   69.801094  152.286972   32.809334\n",
       "...                ...         ...         ...         ...         ...\n",
       "2024-12-23  254.367035  225.059998  195.531937  432.871460  430.600006\n",
       "2024-12-24  257.286682  229.050003  197.108261  436.929108  462.279999\n",
       "2024-12-26  258.103729  227.050003  196.639359  435.715790  454.130005\n",
       "2024-12-27  254.685883  223.750000  193.586487  428.177216  431.660004\n",
       "2024-12-30  251.307861  221.300003  192.239655  422.508362  417.410004\n",
       "\n",
       "[1257 rows x 5 columns]"
      ]
     },
     "execution_count": 12,
     "metadata": {},
     "output_type": "execute_result"
    }
   ],
   "source": [
    "df"
   ]
  },
  {
   "cell_type": "markdown",
   "id": "cd9d4b75-7dd3-408d-ae38-3f3b0d58caac",
   "metadata": {},
   "source": [
    "MPT requires two things:\n",
    "expected annual returns\n",
    "covariance matrix"
   ]
  },
  {
   "cell_type": "code",
   "execution_count": 15,
   "id": "f384f745-3e22-472c-80aa-e5f0dbb80b6b",
   "metadata": {},
   "outputs": [
    {
     "data": {
      "text/plain": [
       "Ticker\n",
       "AAPL    28.313161\n",
       "AMZN    18.515949\n",
       "GOOG    23.196900\n",
       "MSFT    22.639056\n",
       "TSLA    71.129682\n",
       "dtype: float64"
      ]
     },
     "execution_count": 15,
     "metadata": {},
     "output_type": "execute_result"
    }
   ],
   "source": [
    "# 2. Calculate expected returns \n",
    "mu=expected_returns.mean_historical_return(df)*100\n",
    "mu"
   ]
  },
  {
   "cell_type": "code",
   "execution_count": 14,
   "id": "7aaec5cf-f83b-48eb-82db-a025af341852",
   "metadata": {},
   "outputs": [
    {
     "data": {
      "text/html": [
       "<div>\n",
       "<style scoped>\n",
       "    .dataframe tbody tr th:only-of-type {\n",
       "        vertical-align: middle;\n",
       "    }\n",
       "\n",
       "    .dataframe tbody tr th {\n",
       "        vertical-align: top;\n",
       "    }\n",
       "\n",
       "    .dataframe thead th {\n",
       "        text-align: right;\n",
       "    }\n",
       "</style>\n",
       "<table border=\"1\" class=\"dataframe\">\n",
       "  <thead>\n",
       "    <tr style=\"text-align: right;\">\n",
       "      <th>Ticker</th>\n",
       "      <th>AAPL</th>\n",
       "      <th>AMZN</th>\n",
       "      <th>GOOG</th>\n",
       "      <th>MSFT</th>\n",
       "      <th>TSLA</th>\n",
       "    </tr>\n",
       "    <tr>\n",
       "      <th>Ticker</th>\n",
       "      <th></th>\n",
       "      <th></th>\n",
       "      <th></th>\n",
       "      <th></th>\n",
       "      <th></th>\n",
       "    </tr>\n",
       "  </thead>\n",
       "  <tbody>\n",
       "    <tr>\n",
       "      <th>AAPL</th>\n",
       "      <td>0.100420</td>\n",
       "      <td>0.067507</td>\n",
       "      <td>0.066485</td>\n",
       "      <td>0.072340</td>\n",
       "      <td>0.102752</td>\n",
       "    </tr>\n",
       "    <tr>\n",
       "      <th>AMZN</th>\n",
       "      <td>0.067507</td>\n",
       "      <td>0.129425</td>\n",
       "      <td>0.075865</td>\n",
       "      <td>0.074460</td>\n",
       "      <td>0.104534</td>\n",
       "    </tr>\n",
       "    <tr>\n",
       "      <th>GOOG</th>\n",
       "      <td>0.066485</td>\n",
       "      <td>0.075865</td>\n",
       "      <td>0.104930</td>\n",
       "      <td>0.073474</td>\n",
       "      <td>0.087053</td>\n",
       "    </tr>\n",
       "    <tr>\n",
       "      <th>MSFT</th>\n",
       "      <td>0.072340</td>\n",
       "      <td>0.074460</td>\n",
       "      <td>0.073474</td>\n",
       "      <td>0.093066</td>\n",
       "      <td>0.091489</td>\n",
       "    </tr>\n",
       "    <tr>\n",
       "      <th>TSLA</th>\n",
       "      <td>0.102752</td>\n",
       "      <td>0.104534</td>\n",
       "      <td>0.087053</td>\n",
       "      <td>0.091489</td>\n",
       "      <td>0.451442</td>\n",
       "    </tr>\n",
       "  </tbody>\n",
       "</table>\n",
       "</div>"
      ],
      "text/plain": [
       "Ticker      AAPL      AMZN      GOOG      MSFT      TSLA\n",
       "Ticker                                                  \n",
       "AAPL    0.100420  0.067507  0.066485  0.072340  0.102752\n",
       "AMZN    0.067507  0.129425  0.075865  0.074460  0.104534\n",
       "GOOG    0.066485  0.075865  0.104930  0.073474  0.087053\n",
       "MSFT    0.072340  0.074460  0.073474  0.093066  0.091489\n",
       "TSLA    0.102752  0.104534  0.087053  0.091489  0.451442"
      ]
     },
     "execution_count": 14,
     "metadata": {},
     "output_type": "execute_result"
    }
   ],
   "source": [
    "# Calculate Covariance Matrix\n",
    "S=risk_models.sample_cov(df)\n",
    "S"
   ]
  },
  {
   "cell_type": "code",
   "execution_count": 17,
   "id": "5ae7e267-b111-482f-bf5b-c2e671e8cf48",
   "metadata": {},
   "outputs": [],
   "source": [
    "# Performing optimization\n",
    "ef=EfficientFrontier(mu,S)\n",
    "\n",
    "# maximize sharpe ratio\n",
    "weights=ef.max_sharpe()\n",
    "\n",
    "# clean the weights (remove very small allocations)\n",
    "cleaned_weights=ef.clean_weights()"
   ]
  },
  {
   "cell_type": "code",
   "execution_count": 21,
   "id": "fbdfe5e1-44c6-4759-8728-308b5baaf360",
   "metadata": {},
   "outputs": [
    {
     "name": "stdout",
     "output_type": "stream",
     "text": [
      "Expected annual return: 4529.7%\n",
      "Annual volatility: 39.4%\n",
      "Sharpe Ratio: 114.85\n"
     ]
    },
    {
     "data": {
      "text/plain": [
       "(45.29699116186439, 0.39438758886822034, 114.85399754047486)"
      ]
     },
     "execution_count": 21,
     "metadata": {},
     "output_type": "execute_result"
    }
   ],
   "source": [
    "ef.portfolio_performance(verbose=True)"
   ]
  },
  {
   "cell_type": "code",
   "execution_count": 19,
   "id": "84b14ea4-3169-42a9-a21d-69c4c5862811",
   "metadata": {},
   "outputs": [
    {
     "name": "stdout",
     "output_type": "stream",
     "text": [
      "Optimal Asset Weights:\n",
      "OrderedDict({'AAPL': 0.4662, 'AMZN': 0.0, 'GOOG': 0.1225, 'MSFT': 0.0, 'TSLA': 0.4113})\n",
      "------------------------------\n"
     ]
    }
   ],
   "source": [
    "# results\n",
    "print(\"Optimal Asset Weights:\")\n",
    "print(cleaned_weights)\n",
    "print(\"-\"*30)"
   ]
  },
  {
   "cell_type": "code",
   "execution_count": 20,
   "id": "1d94bc4f-a264-49c3-86ba-409f620a9ea4",
   "metadata": {},
   "outputs": [
    {
     "name": "stdout",
     "output_type": "stream",
     "text": [
      "Discrete allocation for a $100,000.00 portfolio:\n",
      "{'AAPL': 186, 'GOOG': 64, 'TSLA': 98}\n",
      "Funds remaining: $47.22\n"
     ]
    }
   ],
   "source": [
    "# Optional: Get the number of shares to buy for a given portfolio value\n",
    "latest_prices = get_latest_prices(df)\n",
    "total_portfolio_value = 100000 # Example: $100,000\n",
    "\n",
    "da = DiscreteAllocation(cleaned_weights, latest_prices, total_portfolio_value=total_portfolio_value)\n",
    "allocation, leftover = da.lp_portfolio()\n",
    "\n",
    "print(f\"Discrete allocation for a ${total_portfolio_value:,.2f} portfolio:\")\n",
    "print(allocation)\n",
    "print(f\"Funds remaining: ${leftover:.2f}\")"
   ]
  },
  {
   "cell_type": "markdown",
   "id": "b6bb5da7-8c7d-4d10-93a1-7985f6e8efe7",
   "metadata": {},
   "source": [
    "Stock volatility is the degree to which a stock's price fluctuates over a given period, indicating the level of risk and uncertainty associated with that stock. A stock with high volatility experiences rapid and large price swings, potentially offering big gains or significant losses, while a low-volatility stock has a steadier, more predictable price movement. Volatility is quantified using statistical measures like standard deviation, which shows how spread out a stock's returns are, with a greater standard deviation meaning more volatility. \n"
   ]
  },
  {
   "cell_type": "code",
   "execution_count": null,
   "id": "783c8796-034c-4b1a-8539-4c0bbcf36dd1",
   "metadata": {},
   "outputs": [],
   "source": []
  }
 ],
 "metadata": {
  "kernelspec": {
   "display_name": "Python 3 (ipykernel)",
   "language": "python",
   "name": "python3"
  },
  "language_info": {
   "codemirror_mode": {
    "name": "ipython",
    "version": 3
   },
   "file_extension": ".py",
   "mimetype": "text/x-python",
   "name": "python",
   "nbconvert_exporter": "python",
   "pygments_lexer": "ipython3",
   "version": "3.12.4"
  }
 },
 "nbformat": 4,
 "nbformat_minor": 5
}
